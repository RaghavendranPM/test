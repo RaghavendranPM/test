{
 "cells": [
  {
   "cell_type": "markdown",
   "metadata": {},
   "source": [
    "### Load Libraries"
   ]
  },
  {
   "cell_type": "code",
   "execution_count": 1,
   "metadata": {
    "collapsed": false
   },
   "outputs": [
    {
     "name": "stdout",
     "output_type": "stream",
     "text": [
      "Load libraries successfully..\n"
     ]
    }
   ],
   "source": [
    "import random\n",
    "import numpy as np\n",
    "import pandas as pd\n",
    "\n",
    "print \"Load libraries successfully..\""
   ]
  },
  {
   "cell_type": "markdown",
   "metadata": {},
   "source": [
    "### Generate Dataset"
   ]
  },
  {
   "cell_type": "code",
   "execution_count": 2,
   "metadata": {
    "collapsed": false
   },
   "outputs": [
    {
     "name": "stdout",
     "output_type": "stream",
     "text": [
      "DataFrame created successfully..\n"
     ]
    }
   ],
   "source": [
    "df_length = 200\n",
    "index_start = 10000\n",
    "\n",
    "df = pd.DataFrame({'order_type' : [random.randint(1, 5) for x in range(df_length)],\n",
    "                   'stage1' : [random.randint(1, 4) for x in range(df_length)],\n",
    "                   'stage2' : [random.randint(1, 6) for x in range(df_length)],\n",
    "                   'stage3' : [random.randint(1, 5) for x in range(df_length)],\n",
    "                   'stage4' : [random.randint(1, 4) for x in range(df_length)],\n",
    "                   'order_status' : 'success'\n",
    "                 }, index = range(index_start, index_start + df_length))\n",
    "\n",
    "print \"DataFrame created successfully..\""
   ]
  },
  {
   "cell_type": "code",
   "execution_count": 3,
   "metadata": {
    "collapsed": false
   },
   "outputs": [],
   "source": [
    "df.loc[df['stage1'] > 3, 'stage2'] = 0\n",
    "df.loc[df['stage1'] > 3, 'stage3'] = 0\n",
    "df.loc[df['stage1'] > 3, 'stage4'] = 0\n",
    "df.loc[df['stage1'] > 3, 'order_status'] = 'failed'"
   ]
  },
  {
   "cell_type": "code",
   "execution_count": 4,
   "metadata": {
    "collapsed": false
   },
   "outputs": [],
   "source": [
    "df.loc[df['stage2'] > 5, 'stage3'] = 0\n",
    "df.loc[df['stage2'] > 5, 'stage4'] = 0\n",
    "df.loc[df['stage2'] > 5, 'order_status'] = 'failed'"
   ]
  },
  {
   "cell_type": "code",
   "execution_count": 5,
   "metadata": {
    "collapsed": false
   },
   "outputs": [],
   "source": [
    "df.loc[df['stage3'] > 4, 'stage4'] = 0\n",
    "df.loc[df['stage3'] > 4, 'order_status'] = 'failed'"
   ]
  },
  {
   "cell_type": "code",
   "execution_count": 6,
   "metadata": {
    "collapsed": false
   },
   "outputs": [],
   "source": [
    "df.loc[df['stage4'] > 3, 'order_status'] = 'failed'"
   ]
  },
  {
   "cell_type": "code",
   "execution_count": 7,
   "metadata": {
    "collapsed": false
   },
   "outputs": [
    {
     "name": "stdout",
     "output_type": "stream",
     "text": [
      "Dateset generated successfully and exported..\n"
     ]
    }
   ],
   "source": [
    "df.to_csv('sample.csv', sep = ',')\n",
    "\n",
    "print \"Dateset generated successfully and exported..\""
   ]
  },
  {
   "cell_type": "markdown",
   "metadata": {},
   "source": [
    "### Entire Dataset Null model"
   ]
  },
  {
   "cell_type": "code",
   "execution_count": 8,
   "metadata": {
    "collapsed": false
   },
   "outputs": [
    {
     "name": "stdout",
     "output_type": "stream",
     "text": [
      "Number of successful records 75\n",
      "Number of failed records 125\n",
      "Null model accuracy 0.625\n"
     ]
    }
   ],
   "source": [
    "len_order_success = len(df.loc[df['order_status'] == 'success'])\n",
    "len_order_failed = len(df.loc[df['order_status'] == 'failed'])\n",
    "accu_null_model = max(len_order_success, len_order_failed) / float(df_length)\n",
    "\n",
    "print \"Number of successful records {}\".format(len_order_success)\n",
    "print \"Number of failed records {}\".format(len_order_failed)\n",
    "print \"Null model accuracy {}\".format(accu_null_model)"
   ]
  },
  {
   "cell_type": "markdown",
   "metadata": {},
   "source": [
    "### Train and Test dataset split"
   ]
  },
  {
   "cell_type": "code",
   "execution_count": 9,
   "metadata": {
    "collapsed": false
   },
   "outputs": [],
   "source": [
    "y = df['order_status']\n",
    "X = df.drop('order_status', axis=1)"
   ]
  },
  {
   "cell_type": "code",
   "execution_count": null,
   "metadata": {
    "collapsed": false
   },
   "outputs": [],
   "source": [
    "from sklearn.cross_validation import train_test_split\n",
    "X_train, X_test, y_train, y_test = train_test_split(X, y, test_size=0.30, random_state=50)"
   ]
  },
  {
   "cell_type": "code",
   "execution_count": null,
   "metadata": {
    "collapsed": false
   },
   "outputs": [],
   "source": []
  },
  {
   "cell_type": "markdown",
   "metadata": {},
   "source": [
    "### Simple Logistic Regression model"
   ]
  },
  {
   "cell_type": "code",
   "execution_count": null,
   "metadata": {
    "collapsed": false
   },
   "outputs": [],
   "source": [
    "from sklearn import linear_model\n",
    "from sklearn import metrics\n",
    "\n",
    "logreg = linear_model.LogisticRegression(random_state=50)\n",
    "logreg.fit(X_train, y_train)\n",
    "\n",
    "logred_pred = logreg.predict(X_test)\n",
    "\n",
    "print(metrics.classification_report(y_test, logred_pred))\n",
    "print(metrics.confusion_matrix(y_test, logred_pred))"
   ]
  },
  {
   "cell_type": "code",
   "execution_count": null,
   "metadata": {
    "collapsed": true
   },
   "outputs": [],
   "source": []
  }
 ],
 "metadata": {
  "kernelspec": {
   "display_name": "Python [Root]",
   "language": "python",
   "name": "Python [Root]"
  },
  "language_info": {
   "codemirror_mode": {
    "name": "ipython",
    "version": 2
   },
   "file_extension": ".py",
   "mimetype": "text/x-python",
   "name": "python",
   "nbconvert_exporter": "python",
   "pygments_lexer": "ipython2",
   "version": "2.7.12"
  }
 },
 "nbformat": 4,
 "nbformat_minor": 0
}
